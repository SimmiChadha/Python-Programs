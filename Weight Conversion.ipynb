{
 "cells": [
  {
   "cell_type": "code",
   "execution_count": 5,
   "id": "d7f8facc",
   "metadata": {},
   "outputs": [],
   "source": [
    "from tkinter import *\n",
    "\n",
    "root = Tk()\n",
    "root.title(\"Weight Converter\")\n",
    "root.maxsize(600,400)\n",
    "root.minsize(600,400)\n",
    "weight ={\n",
    "    \"Gram\":1000,\n",
    "    \"Pounds\":2.20462,\n",
    "    \"Ounces\":35.274\n",
    "}\n",
    "\n",
    "def con():\n",
    "    p = inp.get()\n",
    "    for x in weight.values():\n",
    "        if(x == 1000):\n",
    "            convert = float(p)*x\n",
    "            r1.delete(1.0,END)\n",
    "            r1.insert(INSERT,convert,INSERT, \" grams\")\n",
    "        elif(x == 2.20462):\n",
    "            convert = float(p)*x\n",
    "            r2.delete(1.0,END)\n",
    "            r2.insert(INSERT,convert,INSERT,\" pounds\")\n",
    "        elif(x == 35.274):\n",
    "            convert = float(p)*x\n",
    "            r3.delete(1.0,END)\n",
    "            r3.insert(INSERT,convert,INSERT, \" ounces\")\n",
    "    \n",
    "\n",
    "\n",
    "name = Label(root, text = \"Weight Converter\", font=(\"Comic Sans MS\",20,\"bold\"),fg=\"#32a8a0\")\n",
    "name.place(x=175, y=20)\n",
    "\n",
    "l1 = Label(root, text = \"Enter weight in KG\", font=(\"Comic Sans MS\",15 ),fg=\"#3283a8\")\n",
    "l1.place(x=20, y=70)\n",
    "\n",
    "inp = Entry(root, width=27) # takes weight in kg value entered by user\n",
    "inp.place(x=200, y=75)\n",
    "\n",
    "b = Button(root, text=\"Convert\", fg=\"#3283a8\", font=(\"Comic Sans MS\",15), height=1, width=13, command=con)\n",
    "b.place(x=200, y=100)\n",
    "\n",
    "r1 = Text(root, height=2, width=20)\n",
    "r1.place(x=200,y=155)\n",
    "\n",
    "r2 = Text(root, height=2, width=20)\n",
    "r2.place(x=200,y=200)\n",
    "\n",
    "r3 = Text(root, height=2, width=20)\n",
    "r3.place(x=200,y=250)\n",
    "\n",
    "root.mainloop()"
   ]
  },
  {
   "cell_type": "code",
   "execution_count": null,
   "id": "c9eac785",
   "metadata": {},
   "outputs": [],
   "source": []
  }
 ],
 "metadata": {
  "kernelspec": {
   "display_name": "Python 3 (ipykernel)",
   "language": "python",
   "name": "python3"
  },
  "language_info": {
   "codemirror_mode": {
    "name": "ipython",
    "version": 3
   },
   "file_extension": ".py",
   "mimetype": "text/x-python",
   "name": "python",
   "nbconvert_exporter": "python",
   "pygments_lexer": "ipython3",
   "version": "3.9.7"
  }
 },
 "nbformat": 4,
 "nbformat_minor": 5
}
