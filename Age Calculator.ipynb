{
 "cells": [
  {
   "cell_type": "code",
   "execution_count": 4,
   "id": "cb6ee1d5",
   "metadata": {},
   "outputs": [],
   "source": [
    "from tkinter import *\n",
    "from tkcalendar import *\n",
    "from datetime import date, datetime\n",
    "from dateutil.relativedelta import relativedelta\n",
    "from tkinter import messagebox\n",
    "\n",
    "c = Tk()\n",
    "c.title(\"Age Calculator\")\n",
    "c.geometry(\"600x400\")\n",
    "c.configure(bg='#f2c4d1') #setting background color \n",
    "entered_date = StringVar(c) #declaring string variable\n",
    "def con():\n",
    "    if(len(entered_date.get()) == 0):\n",
    "        error_l.config(text=\"Please select a date\")\n",
    "    else:\n",
    "        error_l.destroy()\n",
    "        dob = datetime.strptime(entered_date.get(),'%m/%d/%y') #converts entered date into datetime object in yyyy-mm-dd format\n",
    "        print(dob)\n",
    "        today = date.today()\n",
    "        print(today)\n",
    "        diff = relativedelta(today,dob)\n",
    "        print(diff)\n",
    "        input_date.config(text=\"Days:\" + str(diff.days) +\"\\n Months:\"+ str(diff.months) + \"\\n Years:\"+ str(diff.years) )\n",
    "        print(\"Days:\",diff.days,\" Months:\",diff.months,\" Years:\", diff.years)\n",
    "\n",
    "    \n",
    "heading = Label(c, text = \"Age Calculator\", font=(\"Times New Roman\",20,\"bold\"),fg=\"#fa054a\",bg=\"#f2c4d1\") #applcation heading\n",
    "heading.place(x=210, y=20)\n",
    "\n",
    "l1 = Label(c, text = \"Select your Date of Birth\", font=(\"Times New Roman\",15),fg=\"#fa054a\",bg=\"#f2c4d1\") \n",
    "l1.place(x=20, y=60)\n",
    "\n",
    "cal = Calendar(c, selectmode='day', textvariable=entered_date, background=\"#ff4076\",  \n",
    "               bordercolor=\"#cccccc\", headersbackground=\"#f7cbcb\", normalbackground=\"#fcf7f7\", foreground='white', \n",
    "               normalforeground='black', headersforeground='#ff4076')\n",
    "cal.place(x=20, y=100)\n",
    "\n",
    "b1 = Button(c, text=\"Calculate Age\", font=(\"Times New Roman\",15,\"bold\"), fg=\"#fa054a\",bg=\"#700264\",command=con)\n",
    "b1.place(x=370, y=140)\n",
    "\n",
    "input_date = Label(c, text=\"\", font=(\"Times New Roman\",15),fg=\"#fa054a\",bg=\"#f2c4d1\")\n",
    "input_date.place(x=390, y=190)\n",
    "\n",
    "error_l = Label(c, text=\"\", font=(\"Times New Roman\",15),fg=\"#fa054a\",bg=\"#f2c4d1\")\n",
    "error_l.place(x=360, y=190)\n",
    "\n",
    "c.mainloop()"
   ]
  },
  {
   "cell_type": "code",
   "execution_count": null,
   "id": "5cd39974",
   "metadata": {},
   "outputs": [],
   "source": []
  },
  {
   "cell_type": "code",
   "execution_count": null,
   "id": "0c3ead0a",
   "metadata": {},
   "outputs": [],
   "source": []
  },
  {
   "cell_type": "code",
   "execution_count": null,
   "id": "60d00e5a",
   "metadata": {},
   "outputs": [],
   "source": []
  }
 ],
 "metadata": {
  "kernelspec": {
   "display_name": "Python 3 (ipykernel)",
   "language": "python",
   "name": "python3"
  },
  "language_info": {
   "codemirror_mode": {
    "name": "ipython",
    "version": 3
   },
   "file_extension": ".py",
   "mimetype": "text/x-python",
   "name": "python",
   "nbconvert_exporter": "python",
   "pygments_lexer": "ipython3",
   "version": "3.9.7"
  }
 },
 "nbformat": 4,
 "nbformat_minor": 5
}
