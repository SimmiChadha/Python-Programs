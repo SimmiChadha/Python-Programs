{
 "cells": [
  {
   "cell_type": "code",
   "execution_count": 22,
   "id": "9f908b60",
   "metadata": {},
   "outputs": [],
   "source": [
    "from tkinter import *\n",
    "from tkinter import ttk\n",
    "\n",
    "\n",
    "c = Tk()\n",
    "c.title(\"Currency converter\")\n",
    "c.geometry(\"600x400\")\n",
    "currency = {\n",
    "    \"American Dollar\": 75.33,\n",
    "    \"Brazilian Real\": 14.59,\n",
    "    \"British Pound\": 100.73,\n",
    "    \"Euro\": 84.19,\n",
    "    \"Singapore Dollar\": 55.44,\n",
    "    \"Chinese Yuan\": 11.94, \n",
    "    \"Japan Yen\": 0.55,\n",
    "    \"Canadian Dollar\" : 59.08\n",
    "}\n",
    "\n",
    "def con():\n",
    "    p = inp.get()\n",
    "    print(p)\n",
    "    a = currency[v.get()]\n",
    "    print(a, v.get())\n",
    "    convert = float(p)*float(a)\n",
    "    r1.delete(1.0,END)\n",
    "    r1.insert(INSERT,convert)\n",
    "    \n",
    "\n",
    "name = Label(c, text = \"Currency Converter\", font=(\"Times New Roman\",20,\"bold\",\"underline\"),fg=\"blue\")\n",
    "name.place(x=175, y=20)\n",
    "\n",
    "l1 = Label(c, text = \"Enter value in INR:\", font=(\"Times New Roman\",15 ),fg=\"red\")\n",
    "l1.place(x=25, y=70)\n",
    "\n",
    "inp = Entry(c) # stores inr value entered by user\n",
    "inp.place(x=200, y=75)\n",
    "\n",
    "l2 = Label(c, text = \"Choose an option:\", font=(\"Times New Roman\",15 ),fg=\"red\")\n",
    "l2.place(x=25, y=100)\n",
    "\n",
    "v = StringVar(c) #stores option selected by user\n",
    "v.set(None)\n",
    "op = OptionMenu(c, v, *currency)\n",
    "op.place(x=198,y=100,height=25,width=128)\n",
    "\n",
    "l3 = Label(c, text = \"Result:\", font=(\"Times New Roman\",15 ),fg=\"red\")\n",
    "l3.place(x=25, y=130)\n",
    "\n",
    "r1 = Text(c, height=1.25, width=15)\n",
    "r1.place(x=200,y=130)\n",
    "\n",
    "b = Button(c, text=\"Convert\", fg=\"red\", font=(\"Times New Roman\",15), width=10, command=con)\n",
    "b.place(x=200, y=160)\n",
    "\n",
    "c.mainloop()"
   ]
  },
  {
   "cell_type": "code",
   "execution_count": null,
   "id": "db8d4d04",
   "metadata": {},
   "outputs": [],
   "source": []
  },
  {
   "cell_type": "code",
   "execution_count": null,
   "id": "e8cb8f37",
   "metadata": {},
   "outputs": [],
   "source": []
  }
 ],
 "metadata": {
  "kernelspec": {
   "display_name": "Python 3 (ipykernel)",
   "language": "python",
   "name": "python3"
  },
  "language_info": {
   "codemirror_mode": {
    "name": "ipython",
    "version": 3
   },
   "file_extension": ".py",
   "mimetype": "text/x-python",
   "name": "python",
   "nbconvert_exporter": "python",
   "pygments_lexer": "ipython3",
   "version": "3.9.7"
  }
 },
 "nbformat": 4,
 "nbformat_minor": 5
}
