{
 "cells": [
  {
   "cell_type": "code",
   "execution_count": 2,
   "id": "b177fce4",
   "metadata": {},
   "outputs": [
    {
     "name": "stdout",
     "output_type": "stream",
     "text": [
      "Enter the number of guesses 4\n",
      "Guess a 4 digit number 1234\n",
      "Your guess is wrong\n",
      "You get 0 bull and 1 cow\n",
      "Guess a 4 digit number 4235\n",
      "Your guess is wrong\n",
      "You get 0 bull and 1 cow\n",
      "Guess a 4 digit number 6489\n",
      "Your guess is wrong\n",
      "You get 1 bull and 1 cow\n",
      "Guess a 4 digit number 9483\n",
      "Your guess is wrong\n",
      "You get 1 bull and 0 cow\n",
      "7406\n"
     ]
    }
   ],
   "source": [
    "import random\n",
    "\n",
    "def generate_secret():\n",
    "    secret = random.randint(1000,9999)\n",
    "#     print(secret)\n",
    "    \n",
    "    if(check_duplicate(secret)):\n",
    "        play_game(secret)\n",
    "    else:\n",
    "        generate_secret()\n",
    "\n",
    "def check_duplicate(n):\n",
    "    s = set(str(n))\n",
    "    if(len(s) == len(str(n))):\n",
    "        return True\n",
    "    else:\n",
    "        return False\n",
    "\n",
    "def play_game(secret_num):\n",
    "    str_secret_num = str(secret_num)\n",
    "    chance = int(input(\"Enter the number of guesses \"))\n",
    "    while(chance > 0 ):\n",
    "        bull = 0\n",
    "        cow = 0\n",
    "        guess = input(\"Guess a 4 digit number \")\n",
    "        if(len(guess) != 4):\n",
    "            print(\"Enter the number again \")\n",
    "        else:\n",
    "            for i in range(0,4):\n",
    "                if(guess[i] in str_secret_num):\n",
    "                    index = str_secret_num.index(guess[i])\n",
    "                    if(index == i):\n",
    "                        bull +=1\n",
    "                    else:\n",
    "                        cow += 1\n",
    "            if(bull == 4):\n",
    "                print(\"Your guess is right\")\n",
    "                print(\"You get all\", bull, \"bulls\")\n",
    "                break\n",
    "            else:\n",
    "                print(\"Your guess is wrong\")\n",
    "                print(\"You get\", bull, \"bull and\", cow, \"cow\")\n",
    "        chance -= 1\n",
    "    print(secret_num)\n",
    "\n",
    "    \n",
    "    \n",
    "generate_secret()"
   ]
  },
  {
   "cell_type": "code",
   "execution_count": null,
   "id": "a1309f8a",
   "metadata": {},
   "outputs": [],
   "source": [
    "    "
   ]
  },
  {
   "cell_type": "code",
   "execution_count": null,
   "id": "303fd85c",
   "metadata": {},
   "outputs": [],
   "source": []
  }
 ],
 "metadata": {
  "kernelspec": {
   "display_name": "Python 3 (ipykernel)",
   "language": "python",
   "name": "python3"
  },
  "language_info": {
   "codemirror_mode": {
    "name": "ipython",
    "version": 3
   },
   "file_extension": ".py",
   "mimetype": "text/x-python",
   "name": "python",
   "nbconvert_exporter": "python",
   "pygments_lexer": "ipython3",
   "version": "3.9.7"
  }
 },
 "nbformat": 4,
 "nbformat_minor": 5
}
